{
 "cells": [
  {
   "cell_type": "code",
   "execution_count": 1,
   "id": "7c1fc154",
   "metadata": {},
   "outputs": [],
   "source": [
    "import requests\n",
    "import pandas as pd,numpy as np\n",
    "from bs4 import BeautifulSoup\n"
   ]
  },
  {
   "cell_type": "code",
   "execution_count": 2,
   "id": "cec386d1",
   "metadata": {},
   "outputs": [
    {
     "name": "stdout",
     "output_type": "stream",
     "text": [
      "<Response [200]>\n"
     ]
    }
   ],
   "source": [
    "url='https://indiancompanies.in/top-100-companies-by-market-cap-in-india/'\n",
    "response=requests.get(url)\n",
    "print(response)"
   ]
  },
  {
   "cell_type": "code",
   "execution_count": 3,
   "id": "f9f39d4d",
   "metadata": {},
   "outputs": [],
   "source": [
    "company=BeautifulSoup(response.content,'html.parser')\n",
    "    "
   ]
  },
  {
   "cell_type": "code",
   "execution_count": 4,
   "id": "26f19893",
   "metadata": {},
   "outputs": [],
   "source": [
    "company.prettify\n",
    "Sr_no=[]\n",
    "Company_name=[]\n",
    "Market_cap=[]"
   ]
  },
  {
   "cell_type": "code",
   "execution_count": 5,
   "id": "29548112",
   "metadata": {},
   "outputs": [],
   "source": [
    "rows=company.select('table tr')[1:]\n",
    "for row in rows:\n",
    "    columns=row.find_all('td')\n",
    "    Srno=columns[0].text\n",
    "    company=columns[1].text\n",
    "    market=columns[2].text.strip()\n",
    "    Sr_no.append(Srno)\n",
    "    Company_name.append(company)\n",
    "    Market_cap.append(market)\n",
    "       \n",
    "   \n",
    "    \n",
    "    \n",
    "    \n",
    "    "
   ]
  },
  {
   "cell_type": "code",
   "execution_count": 6,
   "id": "82457f16",
   "metadata": {},
   "outputs": [],
   "source": [
    "data={\"Sr_no\":Sr_no,'Company_name':Company_name,'Market_cap':Market_cap}"
   ]
  },
  {
   "cell_type": "code",
   "execution_count": 7,
   "id": "d4063d95",
   "metadata": {},
   "outputs": [],
   "source": [
    "indiancompany=pd.DataFrame(data)"
   ]
  },
  {
   "cell_type": "code",
   "execution_count": 8,
   "id": "1eb66fd0",
   "metadata": {},
   "outputs": [
    {
     "data": {
      "text/html": [
       "<div>\n",
       "<style scoped>\n",
       "    .dataframe tbody tr th:only-of-type {\n",
       "        vertical-align: middle;\n",
       "    }\n",
       "\n",
       "    .dataframe tbody tr th {\n",
       "        vertical-align: top;\n",
       "    }\n",
       "\n",
       "    .dataframe thead th {\n",
       "        text-align: right;\n",
       "    }\n",
       "</style>\n",
       "<table border=\"1\" class=\"dataframe\">\n",
       "  <thead>\n",
       "    <tr style=\"text-align: right;\">\n",
       "      <th></th>\n",
       "      <th>Sr_no</th>\n",
       "      <th>Company_name</th>\n",
       "      <th>Market_cap</th>\n",
       "    </tr>\n",
       "  </thead>\n",
       "  <tbody>\n",
       "    <tr>\n",
       "      <th>0</th>\n",
       "      <td>S.No.</td>\n",
       "      <td>Company Name Name</td>\n",
       "      <td>Market Cap</td>\n",
       "    </tr>\n",
       "    <tr>\n",
       "      <th>1</th>\n",
       "      <td>1</td>\n",
       "      <td>Reliance Industries</td>\n",
       "      <td>₹           16,26,036</td>\n",
       "    </tr>\n",
       "    <tr>\n",
       "      <th>2</th>\n",
       "      <td>2</td>\n",
       "      <td>TCS</td>\n",
       "      <td>₹           13,25,131</td>\n",
       "    </tr>\n",
       "    <tr>\n",
       "      <th>3</th>\n",
       "      <td>3</td>\n",
       "      <td>HDFC Bank</td>\n",
       "      <td>₹             8,30,832</td>\n",
       "    </tr>\n",
       "    <tr>\n",
       "      <th>4</th>\n",
       "      <td>4</td>\n",
       "      <td>Infosys</td>\n",
       "      <td>₹             7,45,368</td>\n",
       "    </tr>\n",
       "    <tr>\n",
       "      <th>...</th>\n",
       "      <td>...</td>\n",
       "      <td>...</td>\n",
       "      <td>...</td>\n",
       "    </tr>\n",
       "    <tr>\n",
       "      <th>96</th>\n",
       "      <td>96</td>\n",
       "      <td>PB Fintech.</td>\n",
       "      <td>₹                49,533</td>\n",
       "    </tr>\n",
       "    <tr>\n",
       "      <th>97</th>\n",
       "      <td>97</td>\n",
       "      <td>Hero Motocorp</td>\n",
       "      <td>₹                49,329</td>\n",
       "    </tr>\n",
       "    <tr>\n",
       "      <th>98</th>\n",
       "      <td>98</td>\n",
       "      <td>Bosch</td>\n",
       "      <td>₹                48,689</td>\n",
       "    </tr>\n",
       "    <tr>\n",
       "      <th>99</th>\n",
       "      <td>99</td>\n",
       "      <td>JSW Energy</td>\n",
       "      <td>₹                48,491</td>\n",
       "    </tr>\n",
       "    <tr>\n",
       "      <th>100</th>\n",
       "      <td>100</td>\n",
       "      <td>Jubilant Food.</td>\n",
       "      <td>₹                48,455</td>\n",
       "    </tr>\n",
       "  </tbody>\n",
       "</table>\n",
       "<p>101 rows × 3 columns</p>\n",
       "</div>"
      ],
      "text/plain": [
       "     Sr_no         Company_name               Market_cap\n",
       "0    S.No.    Company Name Name               Market Cap\n",
       "1        1  Reliance Industries    ₹           16,26,036\n",
       "2        2                  TCS    ₹           13,25,131\n",
       "3        3            HDFC Bank   ₹             8,30,832\n",
       "4        4              Infosys   ₹             7,45,368\n",
       "..     ...                  ...                      ...\n",
       "96      96          PB Fintech.  ₹                49,533\n",
       "97      97        Hero Motocorp  ₹                49,329\n",
       "98      98                Bosch  ₹                48,689\n",
       "99      99           JSW Energy  ₹                48,491\n",
       "100    100       Jubilant Food.  ₹                48,455\n",
       "\n",
       "[101 rows x 3 columns]"
      ]
     },
     "execution_count": 8,
     "metadata": {},
     "output_type": "execute_result"
    }
   ],
   "source": [
    "indiancompany"
   ]
  },
  {
   "cell_type": "code",
   "execution_count": 10,
   "id": "837ccf37",
   "metadata": {},
   "outputs": [],
   "source": [
    "indiancompany.to_csv('indiancompany.csv')"
   ]
  },
  {
   "cell_type": "code",
   "execution_count": null,
   "id": "11346a35",
   "metadata": {},
   "outputs": [],
   "source": []
  },
  {
   "cell_type": "code",
   "execution_count": null,
   "id": "42320653",
   "metadata": {},
   "outputs": [],
   "source": []
  }
 ],
 "metadata": {
  "kernelspec": {
   "display_name": "Python 3 (ipykernel)",
   "language": "python",
   "name": "python3"
  },
  "language_info": {
   "codemirror_mode": {
    "name": "ipython",
    "version": 3
   },
   "file_extension": ".py",
   "mimetype": "text/x-python",
   "name": "python",
   "nbconvert_exporter": "python",
   "pygments_lexer": "ipython3",
   "version": "3.11.3"
  }
 },
 "nbformat": 4,
 "nbformat_minor": 5
}
